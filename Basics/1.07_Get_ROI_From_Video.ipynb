{
 "cells": [
  {
   "cell_type": "code",
   "execution_count": 4,
   "metadata": {},
   "outputs": [
    {
     "name": "stdout",
     "output_type": "stream",
     "text": [
      "(207, 109)\n",
      "(350, 85)\n",
      "(350, 217)\n",
      "(273, 206)\n",
      "(119, 239)\n",
      "(126, 132)\n",
      "(145, 19)\n",
      "customs_area = np.array([(207, 109), (350, 85), (350, 217), (273, 206), (119, 239), (126, 132), (145, 19)], np.int32)\n"
     ]
    }
   ],
   "source": [
    "import cv2\n",
    "import numpy as np\n",
    "\n",
    "video_path = \"../Data/Videos/Cars_Moving.mp4\"\n",
    "\n",
    "cap = cv2.VideoCapture(video_path)\n",
    "frams_count = cap.get(cv2.CAP_PROP_FRAME_COUNT)\n",
    "points = []\n",
    "count = 0\n",
    "\n",
    "def click_event(event, x, y, flags, param):\n",
    "    if event == cv2.EVENT_LBUTTONDOWN:\n",
    "        points.append((x, y))\n",
    "        print((x, y))\n",
    "\n",
    "    if event == cv2.EVENT_RBUTTONDOWN:\n",
    "        print((x, y))\n",
    "\n",
    "\n",
    "cv2.namedWindow(\"Video\")\n",
    "cv2.setMouseCallback(\"Video\", click_event)\n",
    "\n",
    "while True:\n",
    "    ret, frame = cap.read()\n",
    "    if not ret:\n",
    "        break\n",
    "\n",
    "    # Draw circles for each point\n",
    "    for point in points:\n",
    "        cv2.circle(frame, point, 5, (255, 0, 0), -1)\n",
    "\n",
    "    # Draw polyline connecting the points\n",
    "    if len(points) >= 2:\n",
    "        pts = np.array(points, np.int32)\n",
    "        pts = pts.reshape((-1, 1, 2))\n",
    "        isClosed = True if len(points) == 4 else False\n",
    "        cv2.polylines(frame, [pts], isClosed=isClosed, color=(0, 255, 0), thickness=2)\n",
    "\n",
    "    cv2.imshow(\"Video\", frame)\n",
    "\n",
    "    if cap.get(cv2.CAP_PROP_POS_FRAMES) == frams_count:\n",
    "        cap.set(cv2.CAP_PROP_POS_FRAMES, 0)\n",
    "\n",
    "    if cv2.waitKey(25) & 0xFF == ord(\"n\"):\n",
    "        count += 1\n",
    "        print(f\"customs_area_{count} = np.array({points}, np.int32)\")\n",
    "        points = []\n",
    "\n",
    "    if cv2.waitKey(25) & 0xFF == ord(\"q\"):\n",
    "        if points:\n",
    "            if count == 0:\n",
    "                print(f\"customs_area = np.array({points}, np.int32)\")\n",
    "            else:\n",
    "                count += 1\n",
    "                print(f\"customs_area_{count} = np.array({points}, np.int32)\")\n",
    "        break\n",
    "\n",
    "cap.release()\n",
    "cv2.destroyAllWindows()"
   ]
  }
 ],
 "metadata": {
  "kernelspec": {
   "display_name": "Python 3",
   "language": "python",
   "name": "python3"
  },
  "language_info": {
   "codemirror_mode": {
    "name": "ipython",
    "version": 3
   },
   "file_extension": ".py",
   "mimetype": "text/x-python",
   "name": "python",
   "nbconvert_exporter": "python",
   "pygments_lexer": "ipython3",
   "version": "3.12.4"
  }
 },
 "nbformat": 4,
 "nbformat_minor": 2
}
