{
 "cells": [
  {
   "cell_type": "markdown",
   "metadata": {},
   "source": [
    "## **Create Trackbar**\n"
   ]
  },
  {
   "cell_type": "markdown",
   "metadata": {},
   "source": [
    "**Interactive RGB Color Picker with OpenCV Trackbars**\n"
   ]
  },
  {
   "cell_type": "code",
   "execution_count": 1,
   "metadata": {},
   "outputs": [],
   "source": [
    "import numpy as np\n",
    "import cv2\n",
    "\n",
    "img = np.zeros((300, 300, 3), dtype=np.uint8)\n",
    "cv2.namedWindow(\"Color Window\")\n",
    "\n",
    "\n",
    "def update_color(val):\n",
    "    state = cv2.getTrackbarPos(\"OFF/ON\", \"Color Window\")\n",
    "    if state:\n",
    "        b = cv2.getTrackbarPos(\"B\", \"Color Window\")\n",
    "        g = cv2.getTrackbarPos(\"G\", \"Color Window\")\n",
    "        r = cv2.getTrackbarPos(\"R\", \"Color Window\")\n",
    "\n",
    "        img[:] = [b, g, r]\n",
    "        # print(f\"Color RGB: ({r}, {g}, {b})\")\n",
    "\n",
    "        display = img.copy()\n",
    "        cv2.putText(\n",
    "            display,\n",
    "            f\"RGB: ({r}, {g}, {b})\",\n",
    "            (10, 30),\n",
    "            cv2.FONT_HERSHEY_SIMPLEX,\n",
    "            0.5,\n",
    "            (255 - b, 255 - g, 255 - r),\n",
    "            2,\n",
    "        )\n",
    "        cv2.imshow(\"Color Window\", display)\n",
    "    else:\n",
    "        img[:] = 0\n",
    "        cv2.imshow(\"Color Window\", img)\n",
    "\n",
    "\n",
    "cv2.createTrackbar(\"B\", \"Color Window\", 0, 255, update_color)\n",
    "cv2.createTrackbar(\"G\", \"Color Window\", 0, 255, update_color)\n",
    "cv2.createTrackbar(\"R\", \"Color Window\", 0, 255, update_color)\n",
    "cv2.createTrackbar(\"OFF/ON\", \"Color Window\", 0, 1, update_color)\n",
    "cv2.imshow(\"Color Window\", img)\n",
    "\n",
    "if cv2.waitKey(0) == ord(\"q\"):\n",
    "    cv2.destroyAllWindows()"
   ]
  },
  {
   "cell_type": "markdown",
   "metadata": {},
   "source": [
    "**Interactive RGB Color Picker with OpenCV Trackbars**\n",
    "\n",
    "Another Way\n"
   ]
  },
  {
   "cell_type": "code",
   "execution_count": 1,
   "metadata": {},
   "outputs": [],
   "source": [
    "import numpy as np\n",
    "import cv2\n",
    "\n",
    "# Initialize a blank black image\n",
    "img = np.zeros((300, 300, 3), dtype=np.uint8)\n",
    "cv2.namedWindow(\"Color Window\")\n",
    "\n",
    "# Create trackbars for RGB channels and OFF/ON state\n",
    "# cv2.createTrackbar(trackbarName, windowName, value, count, onChange= lambda _: None)\n",
    "cv2.createTrackbar(\"Blue\", \"Color Window\", 0, 255, lambda _: None)\n",
    "cv2.createTrackbar(\"Green\", \"Color Window\", 0, 255, lambda _: None)\n",
    "cv2.createTrackbar(\"Red\", \"Color Window\", 0, 255, lambda _: None)\n",
    "cv2.createTrackbar(\"OFF/ON\", \"Color Window\", 0, 1, lambda _: None)\n",
    "\n",
    "\n",
    "cv2.imshow(\"Color Window\", img)\n",
    "\n",
    "while True:\n",
    "    state = cv2.getTrackbarPos(\"OFF/ON\", \"Color Window\")\n",
    "\n",
    "    if state == 1:\n",
    "        blue = cv2.getTrackbarPos(\"Blue\", \"Color Window\")\n",
    "        green = cv2.getTrackbarPos(\"Green\", \"Color Window\")\n",
    "        red = cv2.getTrackbarPos(\"Red\", \"Color Window\")\n",
    "\n",
    "        img[:] = [blue, green, red]\n",
    "\n",
    "        display_img = img.copy()\n",
    "        text_color = (255 - blue, 255 - green, 255 - red)\n",
    "        cv2.putText(\n",
    "            display_img,\n",
    "            f\"RGB: ({red}, {green}, {blue})\",\n",
    "            (10, 30),\n",
    "            cv2.FONT_HERSHEY_SIMPLEX,\n",
    "            0.6,\n",
    "            text_color,\n",
    "            2,\n",
    "        )\n",
    "        cv2.imshow(\"Color Window\", display_img)\n",
    "    else:\n",
    "        img[:] = 0\n",
    "        cv2.imshow(\"Color Window\", img)\n",
    "\n",
    "    if cv2.waitKey(1) & 0xFF == ord(\"q\"):\n",
    "        break\n",
    "\n",
    "    if not cv2.getWindowProperty(\"Color Window\", cv2.WND_PROP_VISIBLE):\n",
    "        break\n",
    "\n",
    "cv2.destroyAllWindows()"
   ]
  }
 ],
 "metadata": {
  "kernelspec": {
   "display_name": "Python 3",
   "language": "python",
   "name": "python3"
  },
  "language_info": {
   "codemirror_mode": {
    "name": "ipython",
    "version": 3
   },
   "file_extension": ".py",
   "mimetype": "text/x-python",
   "name": "python",
   "nbconvert_exporter": "python",
   "pygments_lexer": "ipython3",
   "version": "3.12.4"
  }
 },
 "nbformat": 4,
 "nbformat_minor": 2
}
