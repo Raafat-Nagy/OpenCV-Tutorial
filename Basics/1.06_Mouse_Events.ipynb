{
  "cells": [
    {
      "cell_type": "markdown",
      "metadata": {},
      "source": [
        "## **Mouse Events**\n"
      ]
    },
    {
      "cell_type": "markdown",
      "metadata": {},
      "source": [
        "**Mouse Event for Displaying Coordinates and Color Values on Image**\n"
      ]
    },
    {
      "cell_type": "code",
      "execution_count": 7,
      "metadata": {},
      "outputs": [
        {
          "name": "stdout",
          "output_type": "stream",
          "text": [
            "Pos: (460, 354)\n",
            "Color BGR: [102  95  86] \n",
            "\n",
            "Pos: (460, 354)\n",
            "Color BGR: [102  95  86] \n",
            "\n",
            "Pos: (460, 354)\n",
            "Color BGR: [102  95  86] \n",
            "\n"
          ]
        }
      ],
      "source": [
        "import cv2\n",
        "\n",
        "# Function to handle mouse events\n",
        "def click_event(event, x, y, flags, param):\n",
        "    if event == cv2.EVENT_LBUTTONDOWN:\n",
        "        # Print coordinates (x, y) on the console\n",
        "        strXY = f\"({x}, {y})\"\n",
        "        print(\"Pos:\", strXY)\n",
        "        # Display coordinates on the image\n",
        "        font = cv2.FONT_HERSHEY_SIMPLEX\n",
        "        cv2.putText(img, strXY, (x, y), font, 0.5, (255, 255, 0), 2)\n",
        "        cv2.imshow(\"Image\", img)\n",
        "\n",
        "    if event == cv2.EVENT_RBUTTONDOWN:\n",
        "        # Extract BGR color at (x, y)\n",
        "        blue, green, red = img[y, x]\n",
        "\n",
        "        font = cv2.FONT_HERSHEY_SIMPLEX\n",
        "        strBGR = f\"({blue}, {green}, {red})\"\n",
        "        print(\"Color BGR:\", strBGR)\n",
        "\n",
        "        # Display BGR values on the image (with color from the pixel)\n",
        "        cv2.putText(img, strBGR, (x, y), font, 0.5, (0, 255, 255), 2)\n",
        "        cv2.imshow(\"Image\", img)\n",
        "\n",
        "    if event == cv2.EVENT_MOUSEMOVE and flags == cv2.EVENT_FLAG_CTRLKEY:\n",
        "        # Print coordinates (x, y) on the console\n",
        "        print(f\"Pos: ({x}, {y})\")\n",
        "\n",
        "        # Extract BGR color at (x, y)\n",
        "        print(f\"Color BGR: {img[y, x]} \\n\")\n",
        "\n",
        "\n",
        "# Read an image\n",
        "img = cv2.imread(\"../Data/Images/Car.jpg\")\n",
        "cv2.imshow(\"Image\", img)\n",
        "\n",
        "# Bind the mouse callback function to the window\n",
        "cv2.setMouseCallback(\"Image\", click_event)\n",
        "\n",
        "# Wait until a key is pressed\n",
        "if cv2.waitKey(0) & 0xFF == ord(\"q\"):\n",
        "    cv2.destroyAllWindows()"
      ]
    },
    {
      "cell_type": "markdown",
      "metadata": {},
      "source": [
        "**Interactive Point Selection and Line Drawing**"
      ]
    },
    {
      "cell_type": "code",
      "execution_count": 14,
      "metadata": {},
      "outputs": [
        {
          "name": "stdout",
          "output_type": "stream",
          "text": [
            "[(120, 196), (325, 173), (341, 369), (154, 370), (87, 236), (82, 39), (244, 100), (224, 228)]\n"
          ]
        }
      ],
      "source": [
        "import cv2\n",
        "import numpy as np\n",
        "\n",
        "# List to store points\n",
        "points = []\n",
        "\n",
        "def click_event(event, x, y, flags, param):\n",
        "    global points\n",
        "    if event == cv2.EVENT_LBUTTONDOWN:\n",
        "        # Draw a circle at the clicked point\n",
        "        cv2.circle(img, (x, y), 3, (255, 0, 0), -1)\n",
        "        points.append((x, y))\n",
        "\n",
        "        if len(points) > 1:\n",
        "            cv2.line(img, points[-2], points[-1], (0, 255, 255), 1)\n",
        "\n",
        "        cv2.imshow(\"Image\", img)\n",
        "\n",
        "\n",
        "# Create a blank image\n",
        "img = np.zeros((512, 512, 3), np.uint8)\n",
        "\n",
        "cv2.imshow(\"Image\", img)\n",
        "\n",
        "# Bind the mouse callback function to the window\n",
        "cv2.setMouseCallback(\"Image\", click_event)\n",
        "\n",
        "# Wait until a key is pressed\n",
        "if cv2.waitKey(0) == ord(\"q\"):\n",
        "    cv2.destroyAllWindows()\n",
        "\n",
        "print(points)"
      ]
    },
    {
      "cell_type": "markdown",
      "metadata": {},
      "source": [
        "**Pixel Color Picker**"
      ]
    },
    {
      "cell_type": "code",
      "execution_count": 10,
      "metadata": {},
      "outputs": [
        {
          "name": "stdout",
          "output_type": "stream",
          "text": [
            "Color RGB: (207, 169, 133)\n",
            "Color RGB: (222, 192, 154)\n",
            "Color RGB: (207, 169, 122)\n",
            "Color RGB: (194, 142, 92)\n"
          ]
        }
      ],
      "source": [
        "import cv2\n",
        "import numpy as np\n",
        "\n",
        "\n",
        "def click_event(event, x, y, flags, param):\n",
        "    if event == cv2.EVENT_LBUTTONDOWN:\n",
        "        blue, green, red = img[y, x]\n",
        "        color_img = np.ones((200, 200, 3), np.uint8) * (blue, green, red)\n",
        "        print(f\"Color RGB: ({red}, {green}, {blue})\")\n",
        "        cv2.imshow(\"Color\", color_img)\n",
        "\n",
        "\n",
        "img = cv2.imread(\"../Data/Images/Car.jpg\")\n",
        "\n",
        "cv2.imshow(\"Image\", img)\n",
        "\n",
        "# Bind the mouse callback function to the window\n",
        "cv2.setMouseCallback(\"Image\", click_event)\n",
        "\n",
        "# Wait until a key is pressed\n",
        "if cv2.waitKey(0) == ord(\"q\"):\n",
        "    cv2.destroyAllWindows()"
      ]
    }
  ],
  "metadata": {
    "kernelspec": {
      "display_name": "Python 3",
      "language": "python",
      "name": "python3"
    },
    "language_info": {
      "codemirror_mode": {
        "name": "ipython",
        "version": 3
      },
      "file_extension": ".py",
      "mimetype": "text/x-python",
      "name": "python",
      "nbconvert_exporter": "python",
      "pygments_lexer": "ipython3",
      "version": "3.12.4"
    }
  },
  "nbformat": 4,
  "nbformat_minor": 2
}
