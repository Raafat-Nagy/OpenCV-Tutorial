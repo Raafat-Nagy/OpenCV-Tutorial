{
 "cells": [
  {
   "cell_type": "markdown",
   "metadata": {},
   "source": [
    "## **How to Read, Write, Show Images**\n"
   ]
  },
  {
   "cell_type": "markdown",
   "metadata": {},
   "source": [
    "- First look at openCV and starting by:\n",
    "  1. Opening the image\n",
    "  2. Exploring other methods\n",
    "  3. Saving image in other format\n"
   ]
  },
  {
   "cell_type": "markdown",
   "metadata": {},
   "source": [
    "**Read and Show Image Info**"
   ]
  },
  {
   "cell_type": "code",
   "execution_count": 2,
   "metadata": {},
   "outputs": [],
   "source": [
    "import cv2\n",
    "\n",
    "img = cv2.imread(filename=\"../Data/Images/Car.jpg\", flags=1)\n",
    "\n",
    "# (flag = 0 or 1 or -1)\n",
    "#  O for grayscale\n",
    "#  1 for color\n",
    "# -1 for alpha channel"
   ]
  },
  {
   "cell_type": "code",
   "execution_count": 4,
   "metadata": {},
   "outputs": [
    {
     "name": "stdout",
     "output_type": "stream",
     "text": [
      "Shape: (378, 640, 3)\n",
      "Height: 378 Pixels\n",
      "Width: 640 Pixels\n",
      "Channels: 3\n",
      "Size: 725760 Pixels\n"
     ]
    }
   ],
   "source": [
    "print(f\"Shape: {img.shape}\")  # (Height, Width, Channels)\n",
    "print(f\"Height: {img.shape[0]} Pixels\")\n",
    "print(f\"Width: {img.shape[1]} Pixels\")\n",
    "print(f\"Channels: {img.shape[2]}\")\n",
    "print(f\"Size: {img.size} Pixels\")"
   ]
  },
  {
   "cell_type": "markdown",
   "metadata": {},
   "source": [
    "**Show Image**\n"
   ]
  },
  {
   "cell_type": "code",
   "execution_count": null,
   "metadata": {},
   "outputs": [],
   "source": [
    "# cv2.imshow(\"Image\", img)\n",
    "# cv2.waitKey(0)"
   ]
  },
  {
   "cell_type": "code",
   "execution_count": 4,
   "metadata": {},
   "outputs": [],
   "source": [
    "cv2.imshow(\"Image\", img)\n",
    "\n",
    "# Close window when 'q' is pressed\n",
    "if cv2.waitKey(0) & 0xFF == ord(\"q\"):\n",
    "    cv2.destroyAllWindows()"
   ]
  },
  {
   "cell_type": "code",
   "execution_count": 6,
   "metadata": {},
   "outputs": [],
   "source": [
    "cv2.imshow(\"Image\", img)\n",
    "\n",
    "# Close window after 3 sec\n",
    "cv2.waitKey(3000)\n",
    "cv2.destroyAllWindows()"
   ]
  },
  {
   "cell_type": "markdown",
   "metadata": {},
   "source": [
    "**Save Image**\n"
   ]
  },
  {
   "cell_type": "code",
   "execution_count": 7,
   "metadata": {},
   "outputs": [
    {
     "data": {
      "text/plain": [
       "True"
      ]
     },
     "execution_count": 7,
     "metadata": {},
     "output_type": "execute_result"
    }
   ],
   "source": [
    "cv2.imwrite(\"../Data/Images/Car_Saved.png\", img)"
   ]
  }
 ],
 "metadata": {
  "kernelspec": {
   "display_name": "Python 3",
   "language": "python",
   "name": "python3"
  },
  "language_info": {
   "codemirror_mode": {
    "name": "ipython",
    "version": 3
   },
   "file_extension": ".py",
   "mimetype": "text/x-python",
   "name": "python",
   "nbconvert_exporter": "python",
   "pygments_lexer": "ipython3",
   "version": "3.12.4"
  }
 },
 "nbformat": 4,
 "nbformat_minor": 4
}
