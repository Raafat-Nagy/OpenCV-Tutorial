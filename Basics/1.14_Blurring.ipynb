{
 "cells": [
  {
   "cell_type": "markdown",
   "metadata": {},
   "source": [
    "## **Blurring**\n"
   ]
  },
  {
   "cell_type": "markdown",
   "metadata": {},
   "source": [
    "**Blurring Types:**\n",
    "\n",
    "1. Average Blurring\n",
    "2. Median Blurring\n",
    "3. Gaussian Blurring\n",
    "4. Bilateral Blurring\n",
    "\n",
    "**Check**\n",
    "\n",
    "- https://docs.opencv.org/3.4/dc/dd3/tutorial_gausian_median_blur_bilateral_filter.html\n",
    "- https://docs.opencv.org/4.x/d4/d13/tutorial_py_filtering.html\n"
   ]
  },
  {
   "cell_type": "markdown",
   "metadata": {},
   "source": [
    "### **1. Average Blurring**\n"
   ]
  },
  {
   "cell_type": "code",
   "execution_count": 1,
   "metadata": {},
   "outputs": [],
   "source": [
    "import cv2\n",
    "\n",
    "image = cv2.imread(\"../Data/Images/bug_noisy.jpg\")\n",
    "blurred_image = cv2.blur(image, (5, 5))\n",
    "\n",
    "combined_image = cv2.hconcat([image, blurred_image])\n",
    "\n",
    "cv2.imshow(\"Average Blurring\", combined_image)\n",
    "\n",
    "if cv2.waitKey(0) & 0xFF == ord(\"q\"):\n",
    "    cv2.destroyAllWindows()"
   ]
  },
  {
   "cell_type": "markdown",
   "metadata": {},
   "source": [
    "### **2. Median Blurring**\n"
   ]
  },
  {
   "cell_type": "markdown",
   "metadata": {},
   "source": [
    "**Median Blurring:** For Salt and Paper Images\n"
   ]
  },
  {
   "cell_type": "code",
   "execution_count": 2,
   "metadata": {},
   "outputs": [],
   "source": [
    "import cv2\n",
    "\n",
    "image = cv2.imread(\"../Data/Images/pepper_median_noise.png\")\n",
    "blurred_image = cv2.medianBlur(image, 7)\n",
    "\n",
    "combined_image = cv2.hconcat([image, blurred_image])\n",
    "cv2.imshow(\"Median Blurring\", combined_image)\n",
    "\n",
    "if cv2.waitKey(0) & 0xFF == ord(\"q\"):\n",
    "    cv2.destroyAllWindows()"
   ]
  },
  {
   "cell_type": "markdown",
   "metadata": {},
   "source": [
    "**Median Blurring With Trackbar**\n"
   ]
  },
  {
   "cell_type": "code",
   "execution_count": 4,
   "metadata": {},
   "outputs": [],
   "source": [
    "import cv2\n",
    "\n",
    "image = cv2.imread(\"../Data/Images/pepper_median_noise.png\")\n",
    "cv2.namedWindow(\"Median Blurring\")\n",
    "cv2.createTrackbar(\"ksize\", \"Median Blurring\", 3, 21, lambda _: None)\n",
    "cv2.setTrackbarMin(\"ksize\", \"Median Blurring\", 3)\n",
    "\n",
    "while True:\n",
    "    ksize = cv2.getTrackbarPos(\"ksize\", \"Median Blurring\")\n",
    "    if ksize % 2 == 0:\n",
    "        ksize += 1\n",
    "        cv2.setTrackbarPos(\"ksize\", \"Median Blurring\", ksize)\n",
    "\n",
    "    blurred_image = cv2.medianBlur(image, ksize)\n",
    "    combined_image = cv2.hconcat([image, blurred_image])\n",
    "\n",
    "    cv2.imshow(\"Median Blurring\", combined_image)\n",
    "\n",
    "    if cv2.waitKey(1) & 0xFF == ord(\"q\") or not cv2.getWindowProperty(\n",
    "        \"Median Blurring\", cv2.WND_PROP_VISIBLE\n",
    "    ):\n",
    "        cv2.destroyAllWindows()\n",
    "        break"
   ]
  },
  {
   "cell_type": "markdown",
   "metadata": {},
   "source": [
    "## **3. Gaussian Blurring**\n"
   ]
  },
  {
   "cell_type": "code",
   "execution_count": 1,
   "metadata": {},
   "outputs": [],
   "source": [
    "import cv2\n",
    "\n",
    "image = cv2.imread(\"../Data/Images/Halftone_Gaussian_Blur.jpg\")\n",
    "blurred_image = cv2.GaussianBlur(image, (7, 7), 0)\n",
    "\n",
    "combined_image = cv2.hconcat([image, blurred_image])\n",
    "cv2.imshow(\"Gaussian Blurring\", combined_image)\n",
    "\n",
    "if cv2.waitKey(0) & 0xFF == ord(\"q\"):\n",
    "    cv2.destroyAllWindows()"
   ]
  },
  {
   "cell_type": "markdown",
   "metadata": {},
   "source": [
    "### **4. Bilateral Filter**\n"
   ]
  },
  {
   "cell_type": "code",
   "execution_count": 2,
   "metadata": {},
   "outputs": [],
   "source": [
    "import cv2\n",
    "\n",
    "image = cv2.imread(\"../Data/Images/bug_noisy.jpg\")\n",
    "blurred_image = cv2.bilateralFilter(image, 5, 75, 75)\n",
    "\n",
    "combined_image = cv2.hconcat([image, blurred_image])\n",
    "cv2.imshow(\"Bilateral Filter\", combined_image)\n",
    "\n",
    "if cv2.waitKey(0) & 0xFF == ord(\"q\"):\n",
    "    cv2.destroyAllWindows()"
   ]
  },
  {
   "cell_type": "markdown",
   "metadata": {},
   "source": [
    "---\n"
   ]
  },
  {
   "cell_type": "markdown",
   "metadata": {},
   "source": [
    "### **All Blurring**\n"
   ]
  },
  {
   "cell_type": "code",
   "execution_count": 3,
   "metadata": {},
   "outputs": [],
   "source": [
    "import cv2\n",
    "\n",
    "image = cv2.imread(\"../Data/Images/bug_noisy.jpg\")\n",
    "# image = cv2.imread(\"../Data/Images/Flowers.png\")\n",
    "\n",
    "winname = \"Blurring (Image, Average, Median, Gaussian, Bilateral)\"\n",
    "cv2.namedWindow(winname)\n",
    "cv2.createTrackbar(\"ksize\", winname, 3, 21, lambda _: None)\n",
    "cv2.setTrackbarMin(\"ksize\", winname, 3)\n",
    "\n",
    "\n",
    "while True:\n",
    "    ksize = cv2.getTrackbarPos(\"ksize\", winname)\n",
    "    if ksize % 2 == 0:\n",
    "        ksize += 1\n",
    "        cv2.setTrackbarPos(\"ksize\", winname, ksize)\n",
    "\n",
    "    average_blur = cv2.blur(image, (ksize, ksize))\n",
    "    median_blur = cv2.medianBlur(image, ksize)\n",
    "    gaussian_blur = cv2.GaussianBlur(image, (ksize, ksize), 0)\n",
    "    bilateral_blur = cv2.bilateralFilter(image, ksize, 75, 75)\n",
    "\n",
    "    combined_image = cv2.hconcat(\n",
    "        [image, average_blur, median_blur, gaussian_blur, bilateral_blur]\n",
    "    )\n",
    "\n",
    "    cv2.imshow(winname, combined_image)\n",
    "\n",
    "    if cv2.waitKey(1) & 0xFF == ord(\"q\") or not cv2.getWindowProperty(\n",
    "        winname, cv2.WND_PROP_VISIBLE\n",
    "    ):\n",
    "        cv2.destroyAllWindows()\n",
    "        break"
   ]
  }
 ],
 "metadata": {
  "kernelspec": {
   "display_name": "Python 3",
   "language": "python",
   "name": "python3"
  },
  "language_info": {
   "codemirror_mode": {
    "name": "ipython",
    "version": 3
   },
   "file_extension": ".py",
   "mimetype": "text/x-python",
   "name": "python",
   "nbconvert_exporter": "python",
   "pygments_lexer": "ipython3",
   "version": "3.12.4"
  }
 },
 "nbformat": 4,
 "nbformat_minor": 2
}
