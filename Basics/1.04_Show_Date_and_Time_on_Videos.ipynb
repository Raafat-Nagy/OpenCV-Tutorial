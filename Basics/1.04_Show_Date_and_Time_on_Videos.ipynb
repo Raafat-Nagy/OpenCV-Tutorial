{
 "cells": [
  {
   "cell_type": "markdown",
   "metadata": {},
   "source": [
    "## **Show Date and Time on Videos**\n"
   ]
  },
  {
   "cell_type": "code",
   "execution_count": 2,
   "metadata": {},
   "outputs": [],
   "source": [
    "import cv2\n",
    "from datetime import datetime\n",
    "\n",
    "# Open the default camera (camera index 0)\n",
    "cap = cv2.VideoCapture(0)\n",
    "\n",
    "# Read frames in a loop\n",
    "while cap.isOpened():\n",
    "    ret, frame = cap.read()\n",
    "\n",
    "    if not ret:\n",
    "        print(\"Error: Failed to grab a frame.\")\n",
    "        break\n",
    "\n",
    "    # Add overlay text: resolution and date-time\n",
    "    font = cv2.FONT_HERSHEY_DUPLEX\n",
    "    resolution_text = f\"Width: {cap.get(3)} | Height: {cap.get(4)}\"\n",
    "    date_time_text = str(datetime.now())\n",
    "\n",
    "    # Put resolution text on the frame\n",
    "    frame = cv2.putText(frame, resolution_text, (10, 25), font, 0.7, (0, 255, 255), 2)\n",
    "    # Put date-time text on the frame\n",
    "    frame = cv2.putText(frame, date_time_text, (10, 50), font, 0.7, (0, 255, 255), 2)\n",
    "\n",
    "    # Display the frame\n",
    "    cv2.imshow(\"Frame\", frame)\n",
    "\n",
    "    # Exit loop when 'q' is pressed\n",
    "    if cv2.waitKey(1) & 0xFF == ord(\"q\"):\n",
    "        break\n",
    "\n",
    "# Release resources\n",
    "cap.release()\n",
    "cv2.destroyAllWindows()\n",
    "\n",
    "# cv2.CAP_PROP_FRAME_WIDTH == 3\n",
    "# cv2.CAP_PROP_FRAME_HEIGHT == 4"
   ]
  },
  {
   "cell_type": "markdown",
   "metadata": {},
   "source": [
    "**OR**"
   ]
  },
  {
   "cell_type": "code",
   "execution_count": 25,
   "metadata": {},
   "outputs": [],
   "source": [
    "import cv2\n",
    "import cvzone\n",
    "from datetime import datetime\n",
    "\n",
    "\n",
    "cap = cv2.VideoCapture(0)\n",
    "while True:\n",
    "    ret, frame = cap.read()\n",
    "    if not ret:\n",
    "        break\n",
    "    frame = cv2.flip(frame, 1)\n",
    "\n",
    "    cvzone.putTextRect(frame, str(datetime.now()), (3, 30), scale=2)\n",
    "\n",
    "    cv2.imshow(\"Camera\", frame)\n",
    "    if cv2.waitKey(1) & 0xFF == ord(\"q\"):\n",
    "        break\n",
    "\n",
    "cap.release()\n",
    "cv2.destroyAllWindows()"
   ]
  }
 ],
 "metadata": {
  "kernelspec": {
   "display_name": "Python 3",
   "language": "python",
   "name": "python3"
  },
  "language_info": {
   "codemirror_mode": {
    "name": "ipython",
    "version": 3
   },
   "file_extension": ".py",
   "mimetype": "text/x-python",
   "name": "python",
   "nbconvert_exporter": "python",
   "pygments_lexer": "ipython3",
   "version": "3.12.4"
  }
 },
 "nbformat": 4,
 "nbformat_minor": 2
}
