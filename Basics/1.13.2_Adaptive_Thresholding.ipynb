{
 "cells": [
  {
   "cell_type": "markdown",
   "metadata": {},
   "source": [
    "## **Adaptive Thresholding**\n"
   ]
  },
  {
   "cell_type": "markdown",
   "metadata": {},
   "source": [
    "- ADAPTIVE_THRESH_MEAN_C\n",
    "- ADAPTIVE_THRESH_GAUSSIAN_C"
   ]
  },
  {
   "cell_type": "code",
   "execution_count": 5,
   "metadata": {},
   "outputs": [],
   "source": [
    "import cv2\n",
    "\n",
    "# image = cv2.imread(\"../Data/Images/sudoku.png\", 0)\n",
    "image = cv2.imread(\"../Data/Images/page.png\", 0)\n",
    "image = cv2.resize(image, (600, 600))"
   ]
  },
  {
   "cell_type": "code",
   "execution_count": 6,
   "metadata": {},
   "outputs": [],
   "source": [
    "def display_adaptive_thresholded_image(\n",
    "    threshold_type, winname=\"Adaptive Threshold Viewer\"\n",
    "):\n",
    "    cv2.namedWindow(winname)\n",
    "\n",
    "    cv2.createTrackbar(\"BS\", winname, 3, 255, lambda _: None)  # Block Size\n",
    "    cv2.setTrackbarMin(\"BS\", winname, 3)\n",
    "    cv2.createTrackbar(\"C\", winname, 2, 50, lambda _: None)\n",
    "\n",
    "    while True:\n",
    "        blockSize = cv2.getTrackbarPos(\"BS\", winname)\n",
    "        c = cv2.getTrackbarPos(\"C\", winname)\n",
    "\n",
    "        if blockSize % 2 == 0:\n",
    "            blockSize += 1\n",
    "            cv2.setTrackbarPos(\"BS\", winname, blockSize)\n",
    "\n",
    "        thresholded_image = cv2.adaptiveThreshold(\n",
    "            image, 255, threshold_type, cv2.THRESH_BINARY, blockSize, c\n",
    "        )\n",
    "\n",
    "        combined_image = cv2.hconcat([image, thresholded_image])\n",
    "        cv2.imshow(winname, combined_image)\n",
    "\n",
    "        if cv2.waitKey(1) & 0xFF == ord(\"q\") or not cv2.getWindowProperty(\n",
    "            winname, cv2.WND_PROP_VISIBLE\n",
    "        ):\n",
    "            cv2.destroyAllWindows()\n",
    "            break"
   ]
  },
  {
   "cell_type": "markdown",
   "metadata": {},
   "source": [
    "> **`cv2.adaptiveThreshold(src, maxValue, adaptiveMethod, thresholdType, blockSize, c)`**"
   ]
  },
  {
   "cell_type": "markdown",
   "metadata": {},
   "source": [
    "**ADAPTIVE_THRESH_MEAN_C**"
   ]
  },
  {
   "cell_type": "code",
   "execution_count": 7,
   "metadata": {},
   "outputs": [],
   "source": [
    "display_adaptive_thresholded_image(cv2.ADAPTIVE_THRESH_MEAN_C, \"ADAPTIVE_THRESH_MEAN_C\")"
   ]
  },
  {
   "cell_type": "markdown",
   "metadata": {},
   "source": [
    "**ADAPTIVE_THRESH_GAUSSIAN_C**"
   ]
  },
  {
   "cell_type": "code",
   "execution_count": 8,
   "metadata": {},
   "outputs": [],
   "source": [
    "display_adaptive_thresholded_image(\n",
    "    cv2.ADAPTIVE_THRESH_GAUSSIAN_C, \"ADAPTIVE_THRESH_GAUSSIAN_C\"\n",
    ")"
   ]
  },
  {
   "cell_type": "markdown",
   "metadata": {},
   "source": [
    "---"
   ]
  }
 ],
 "metadata": {
  "kernelspec": {
   "display_name": "Python 3",
   "language": "python",
   "name": "python3"
  },
  "language_info": {
   "codemirror_mode": {
    "name": "ipython",
    "version": 3
   },
   "file_extension": ".py",
   "mimetype": "text/x-python",
   "name": "python",
   "nbconvert_exporter": "python",
   "pygments_lexer": "ipython3",
   "version": "3.12.4"
  }
 },
 "nbformat": 4,
 "nbformat_minor": 2
}
