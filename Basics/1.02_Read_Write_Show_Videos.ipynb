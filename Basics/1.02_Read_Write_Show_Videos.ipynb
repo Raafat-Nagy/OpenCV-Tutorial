{
  "cells": [
    {
      "cell_type": "markdown",
      "metadata": {},
      "source": [
        "## **How to Read, Write, Show Videos**\n"
      ]
    },
    {
      "cell_type": "markdown",
      "metadata": {},
      "source": [
        "### **Read and Show Videos**\n"
      ]
    },
    {
      "cell_type": "markdown",
      "metadata": {},
      "source": [
        "**Can be Used With :**\n",
        "\n",
        "1. WebCam\n",
        "2. Local Video File\n",
        "3. IP Camera\n"
      ]
    },
    {
      "cell_type": "markdown",
      "metadata": {},
      "source": [
        "#### **1. WebCam**\n"
      ]
    },
    {
      "cell_type": "code",
      "execution_count": 4,
      "metadata": {},
      "outputs": [],
      "source": [
        "import cv2\n",
        "\n",
        "# Open the default camera (0 is the default camera ID)\n",
        "cap = cv2.VideoCapture(0)\n",
        "\n",
        "if not cap.isOpened():\n",
        "    print(\"Error: Unable to open the camera\")\n",
        "    exit()\n",
        "\n",
        "while True:\n",
        "    # Read the current frame from the camera\n",
        "    ret, frame = cap.read()\n",
        "\n",
        "    if not ret:\n",
        "        print(\"Error: Unable to read from the camera\")\n",
        "        break\n",
        "\n",
        "    # Display the frame\n",
        "    cv2.imshow(\"Camera\", frame)\n",
        "\n",
        "    # Exit the loop when 'q' is pressed\n",
        "    if cv2.waitKey(1) & 0xFF == ord(\"q\"):\n",
        "        break\n",
        "\n",
        "# Release the camera and close all OpenCV windows\n",
        "cap.release()\n",
        "cv2.destroyAllWindows()"
      ]
    },
    {
      "cell_type": "markdown",
      "metadata": {},
      "source": [
        "---\n"
      ]
    },
    {
      "cell_type": "markdown",
      "metadata": {},
      "source": [
        "#### **2. Local Video File**\n"
      ]
    },
    {
      "cell_type": "markdown",
      "metadata": {},
      "source": [
        "**Video Properties : `cv2.CAP_PROP_*`**\n",
        "\n",
        "READ THIS:\n",
        "https://docs.opencv.org/2.4/modules/highgui/doc/reading_and_writing_images_and_video.html#videocapture-get\n"
      ]
    },
    {
      "cell_type": "code",
      "execution_count": 1,
      "metadata": {},
      "outputs": [
        {
          "name": "stdout",
          "output_type": "stream",
          "text": [
            "30 FPS\n",
            "1800 FRAMES\n",
            "640 WIDTH\n",
            "360 HEIGHT\n",
            "60 SECONDS\n"
          ]
        }
      ],
      "source": [
        "import cv2\n",
        "\n",
        "VIDEO_PATH = \"../Data/Videos/Cars_Moving.mp4\"\n",
        "video = cv2.VideoCapture(VIDEO_PATH)\n",
        "\n",
        "print(int(video.get(cv2.CAP_PROP_FPS)), \"FPS\")\n",
        "print(int(video.get(cv2.CAP_PROP_FRAME_COUNT)), \"FRAMES\")\n",
        "print(int(video.get(cv2.CAP_PROP_FRAME_WIDTH)), \"WIDTH\")\n",
        "print(int(video.get(cv2.CAP_PROP_FRAME_HEIGHT)), \"HEIGHT\")\n",
        "print(\n",
        "    int(video.get(cv2.CAP_PROP_FRAME_COUNT)) // int(video.get(cv2.CAP_PROP_FPS)),\n",
        "    \"SECONDS\",\n",
        ")"
      ]
    },
    {
      "cell_type": "markdown",
      "metadata": {},
      "source": [
        ">```\n",
        ">int(video.get(cv2.CAP_PROP_FRAME_WIDTH)) == int(video.get(3))\n",
        ">int(video.get(cv2.CAP_PROP_FRAME_HEIGHT)) == int(video.get(4))\n",
        ">```"
      ]
    },
    {
      "cell_type": "code",
      "execution_count": 2,
      "metadata": {},
      "outputs": [
        {
          "data": {
            "text/plain": [
              "(640, 360)"
            ]
          },
          "execution_count": 2,
          "metadata": {},
          "output_type": "execute_result"
        }
      ],
      "source": [
        "int(video.get(3)), int(video.get(4))"
      ]
    },
    {
      "cell_type": "code",
      "execution_count": 10,
      "metadata": {},
      "outputs": [],
      "source": [
        "import cv2\n",
        "\n",
        "# Open the video file\n",
        "VIDEO_PATH = \"../Data/Videos/Cars_Moving.mp4\"\n",
        "cap = cv2.VideoCapture(VIDEO_PATH)\n",
        "\n",
        "if not cap.isOpened():\n",
        "    print(\"Error: Unable to open the video file\")\n",
        "    exit()\n",
        "\n",
        "FRAME_COUNT = int(cap.get(cv2.CAP_PROP_FRAME_COUNT))\n",
        "while True:\n",
        "    # Read the current frame from the video\n",
        "    ret, frame = cap.read()\n",
        "\n",
        "    if not ret:\n",
        "        print(\"Error Occurred\")\n",
        "        break\n",
        "\n",
        "    # Display the frame\n",
        "    cv2.imshow(\"Video\", frame)\n",
        "\n",
        "    # Exit the loop when 'q' is pressed\n",
        "    if cv2.waitKey(int(cap.get(cv2.CAP_PROP_FPS))) & 0xFF == ord(\"q\"):\n",
        "        break\n",
        "\n",
        "    if int(cap.get(cv2.CAP_PROP_POS_FRAMES)) == FRAME_COUNT:\n",
        "        print(\"End of Video\")\n",
        "        break\n",
        "\n",
        "    \n",
        "\n",
        "\n",
        "# Release the video file and close all OpenCV windows\n",
        "cap.release()\n",
        "cv2.destroyAllWindows()"
      ]
    },
    {
      "cell_type": "markdown",
      "metadata": {},
      "source": [
        "---\n"
      ]
    },
    {
      "cell_type": "markdown",
      "metadata": {},
      "source": [
        "#### **3. IP Camera**\n"
      ]
    },
    {
      "cell_type": "code",
      "execution_count": null,
      "metadata": {},
      "outputs": [],
      "source": [
        "# **  3- ip camera  **\n",
        "# video = cv2.VideoCapture(\"http://217.126.89.102:8010/axis-cgi/mjpg/video.cgi\")"
      ]
    },
    {
      "cell_type": "markdown",
      "metadata": {},
      "source": [
        "---\n",
        "---\n"
      ]
    },
    {
      "cell_type": "markdown",
      "metadata": {},
      "source": [
        "### **Write Video**\n"
      ]
    },
    {
      "cell_type": "markdown",
      "metadata": {},
      "source": [
        "**READ THIS:**\n",
        "\n",
        "- https://docs.opencv.org/2.4/modules/highgui/doc/reading_and_writing_images_and_video.html#cv2.VideoWriter.open\n",
        "- http://www.fourcc.org/codecs.php\n"
      ]
    },
    {
      "cell_type": "markdown",
      "metadata": {},
      "source": [
        "#### **WebCam**\n"
      ]
    },
    {
      "cell_type": "code",
      "execution_count": 3,
      "metadata": {},
      "outputs": [],
      "source": [
        "import cv2\n",
        "\n",
        "# Set the output file name and codec\n",
        "output_file = \"../Data/Videos/output_video.mp4\"\n",
        "fourcc = cv2.VideoWriter_fourcc(*\"mp4v\")\n",
        "frame_rate = 20.0\n",
        "frame_size = (640, 480)\n",
        "\n",
        "# Initialize VideoWriter\n",
        "out = cv2.VideoWriter(output_file, fourcc, frame_rate, frame_size, isColor=True)\n",
        "# ================================================================\n",
        "\n",
        "# Capture video using the webcam\n",
        "cap = cv2.VideoCapture(0)\n",
        "\n",
        "if not cap.isOpened():\n",
        "    print(\"Error: Cannot open camera\")\n",
        "    exit()\n",
        "\n",
        "while True:\n",
        "    ret, frame = cap.read()\n",
        "\n",
        "    # frame = cv2.cvtColor(frame, cv2.COLOR_BGR2GRAY)\n",
        "\n",
        "    # Write the frame to the video file\n",
        "    out.write(frame)\n",
        "\n",
        "    # Display the frame in a window\n",
        "    cv2.imshow(\"Recording\", frame)\n",
        "\n",
        "    # Exit if the 'q' key is pressed\n",
        "    if cv2.waitKey(1) & 0xFF == ord(\"q\") or not ret:\n",
        "        break\n",
        "\n",
        "# Release resources\n",
        "cap.release()\n",
        "out.release()\n",
        "cv2.destroyAllWindows()"
      ]
    },
    {
      "cell_type": "markdown",
      "metadata": {},
      "source": [
        "---\n",
        "---\n"
      ]
    }
  ],
  "metadata": {
    "kernelspec": {
      "display_name": "Python 3",
      "language": "python",
      "name": "python3"
    },
    "language_info": {
      "codemirror_mode": {
        "name": "ipython",
        "version": 3
      },
      "file_extension": ".py",
      "mimetype": "text/x-python",
      "name": "python",
      "nbconvert_exporter": "python",
      "pygments_lexer": "ipython3",
      "version": "3.12.4"
    }
  },
  "nbformat": 4,
  "nbformat_minor": 2
}
