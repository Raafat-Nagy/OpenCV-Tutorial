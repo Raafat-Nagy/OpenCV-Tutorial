{
 "cells": [
  {
   "cell_type": "markdown",
   "metadata": {},
   "source": [
    "## **Global Thresholding**\n"
   ]
  },
  {
   "cell_type": "markdown",
   "metadata": {},
   "source": [
    "- THRESH_BINARY\n",
    "- THRESH_BINARY_INV\n",
    "- THRESH_TRUNC\n",
    "- THRESH_TOZERO\n",
    "- THRESH_TOZERO_INV"
   ]
  },
  {
   "cell_type": "code",
   "execution_count": 1,
   "metadata": {},
   "outputs": [],
   "source": [
    "import cv2\n",
    "\n",
    "image = cv2.imread(\"../Data/Images/gradient.png\", 0)\n",
    "image = cv2.resize(image, (350, 300))"
   ]
  },
  {
   "cell_type": "code",
   "execution_count": 2,
   "metadata": {},
   "outputs": [],
   "source": [
    "def display_thresholded_image(threshold_type, winname=\"Threshold Viewer\"):\n",
    "    cv2.namedWindow(winname)\n",
    "    cv2.createTrackbar(\"Th Value\", winname, 50, 255, lambda _: None)\n",
    "\n",
    "    while True:\n",
    "        th_value = cv2.getTrackbarPos(\"Th Value\", winname)\n",
    "\n",
    "        _, thresholded_image = cv2.threshold(image, th_value, 255, threshold_type)\n",
    "\n",
    "        combined_image = cv2.vconcat([image, thresholded_image])\n",
    "        cv2.imshow(winname, combined_image)\n",
    "\n",
    "        if cv2.waitKey(1) & 0xFF == ord(\"q\") or not cv2.getWindowProperty(\n",
    "            winname, cv2.WND_PROP_VISIBLE\n",
    "        ):\n",
    "            cv2.destroyAllWindows()\n",
    "            break"
   ]
  },
  {
   "cell_type": "markdown",
   "metadata": {},
   "source": [
    "> **`cv2.threshold(src, thresh, maxval, type)`**"
   ]
  },
  {
   "cell_type": "markdown",
   "metadata": {},
   "source": [
    "**THRESH_BINARY**\n"
   ]
  },
  {
   "cell_type": "code",
   "execution_count": 3,
   "metadata": {},
   "outputs": [],
   "source": [
    "display_thresholded_image(cv2.THRESH_BINARY, \"THRESH_BINARY\")"
   ]
  },
  {
   "cell_type": "markdown",
   "metadata": {},
   "source": [
    "**THRESH_BINARY_INV**\n"
   ]
  },
  {
   "cell_type": "code",
   "execution_count": 4,
   "metadata": {},
   "outputs": [],
   "source": [
    "display_thresholded_image(cv2.THRESH_BINARY_INV, \"THRESH_BINARY_INV\")"
   ]
  },
  {
   "cell_type": "markdown",
   "metadata": {},
   "source": [
    "**THRESH_TRUNC**\n"
   ]
  },
  {
   "cell_type": "code",
   "execution_count": 5,
   "metadata": {},
   "outputs": [],
   "source": [
    "display_thresholded_image(cv2.THRESH_TRUNC, \"THRESH_TRUNC\")"
   ]
  },
  {
   "cell_type": "markdown",
   "metadata": {},
   "source": [
    "**THRESH_TOZERO**\n"
   ]
  },
  {
   "cell_type": "code",
   "execution_count": 6,
   "metadata": {},
   "outputs": [],
   "source": [
    "display_thresholded_image(cv2.THRESH_TOZERO, \"THRESH_TOZERO\")"
   ]
  },
  {
   "cell_type": "markdown",
   "metadata": {},
   "source": [
    "**THRESH_TOZERO_INV**\n"
   ]
  },
  {
   "cell_type": "code",
   "execution_count": 7,
   "metadata": {},
   "outputs": [],
   "source": [
    "display_thresholded_image(cv2.THRESH_TOZERO_INV, \"THRESH_TOZERO_INV\")"
   ]
  }
 ],
 "metadata": {
  "kernelspec": {
   "display_name": "Python 3",
   "language": "python",
   "name": "python3"
  },
  "language_info": {
   "codemirror_mode": {
    "name": "ipython",
    "version": 3
   },
   "file_extension": ".py",
   "mimetype": "text/x-python",
   "name": "python",
   "nbconvert_exporter": "python",
   "pygments_lexer": "ipython3",
   "version": "3.12.4"
  }
 },
 "nbformat": 4,
 "nbformat_minor": 2
}
