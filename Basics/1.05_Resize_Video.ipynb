{
 "cells": [
  {
   "cell_type": "code",
   "execution_count": 2,
   "metadata": {},
   "outputs": [],
   "source": [
    "import os\n",
    "import cv2"
   ]
  },
  {
   "cell_type": "markdown",
   "metadata": {},
   "source": [
    "**Show Video Information**"
   ]
  },
  {
   "cell_type": "code",
   "execution_count": 3,
   "metadata": {},
   "outputs": [
    {
     "name": "stdout",
     "output_type": "stream",
     "text": [
      "Width 640\n",
      "Height 360\n",
      "FPS 30.0\n"
     ]
    }
   ],
   "source": [
    "input_video_path = \"../Data/Videos/Cars_Moving.mp4\"\n",
    "\n",
    "cap = cv2.VideoCapture(input_video_path)\n",
    "\n",
    "# Get the original video's width, height, and frames per second (fps)\n",
    "width = int(cap.get(cv2.CAP_PROP_FRAME_WIDTH))\n",
    "height = int(cap.get(cv2.CAP_PROP_FRAME_HEIGHT))\n",
    "fps = cap.get(cv2.CAP_PROP_FPS)\n",
    "\n",
    "print(\"Width\", width)\n",
    "print(\"Height\", height)\n",
    "print(\"FPS\", fps)"
   ]
  },
  {
   "cell_type": "markdown",
   "metadata": {},
   "source": [
    "**Define the custom size**"
   ]
  },
  {
   "cell_type": "code",
   "execution_count": 26,
   "metadata": {},
   "outputs": [
    {
     "name": "stdout",
     "output_type": "stream",
     "text": [
      "Custom Size: (1020x600)\n"
     ]
    }
   ],
   "source": [
    "new_width, new_height = (1020,600)\n",
    "print(f\"Custom Size: ({new_width}x{new_height})\")"
   ]
  },
  {
   "cell_type": "markdown",
   "metadata": {},
   "source": [
    "**OR Choose a Resolution**"
   ]
  },
  {
   "cell_type": "code",
   "execution_count": 4,
   "metadata": {},
   "outputs": [
    {
     "name": "stdout",
     "output_type": "stream",
     "text": [
      "Selected resolution: 720p (1280x720)\n"
     ]
    }
   ],
   "source": [
    "# Common resolutions\n",
    "resolutions = {\n",
    "    \"480p\": (640, 480),\n",
    "    \"720p\": (1280, 720),\n",
    "    \"1080p\": (1920, 1080),\n",
    "    \"4K\": (3840, 2160),\n",
    "    \"Vertical_1080p\": (1080, 1920),\n",
    "    \"Square_1080p\": (1080, 1080),\n",
    "}\n",
    "\n",
    "# Choose a resolution\n",
    "resolution_name = \"720p\"\n",
    "new_width, new_height = resolutions[resolution_name]\n",
    "print(f\"Selected resolution: {resolution_name} ({new_width}x{new_height})\")"
   ]
  },
  {
   "cell_type": "code",
   "execution_count": 5,
   "metadata": {},
   "outputs": [
    {
     "name": "stdout",
     "output_type": "stream",
     "text": [
      "Resized video saved to ../Data/Videos/Cars_Moving_resized.mp4\n"
     ]
    }
   ],
   "source": [
    "# Generate output video path by appending a suffix\n",
    "file_name, file_extension = os.path.splitext(input_video_path)\n",
    "output_video_path = f\"{file_name}_resized.mp4\"\n",
    "\n",
    "# Define the codec and create a VideoWriter object to save the video\n",
    "fourcc = cv2.VideoWriter_fourcc(*\"mp4v\")  # Codec for .mp4 format\n",
    "out = cv2.VideoWriter(output_video_path, fourcc, fps, (new_width, new_height))\n",
    "\n",
    "while cap.isOpened():\n",
    "    ret, frame = cap.read()\n",
    "    if not ret:\n",
    "        break\n",
    "\n",
    "    # Resize the frame to the custom size\n",
    "    resized_frame = cv2.resize(frame, (new_width, new_height))\n",
    "\n",
    "    cv2.imshow(\"Resized Video\", resized_frame)\n",
    "\n",
    "    out.write(resized_frame)\n",
    "\n",
    "    if cv2.waitKey(1) & 0xFF == ord(\"q\"):\n",
    "        break\n",
    "\n",
    "cap.release()\n",
    "out.release()\n",
    "cv2.destroyAllWindows()\n",
    "\n",
    "print(f\"Resized video saved to {output_video_path}\")"
   ]
  }
 ],
 "metadata": {
  "kernelspec": {
   "display_name": "Python 3",
   "language": "python",
   "name": "python3"
  },
  "language_info": {
   "codemirror_mode": {
    "name": "ipython",
    "version": 3
   },
   "file_extension": ".py",
   "mimetype": "text/x-python",
   "name": "python",
   "nbconvert_exporter": "python",
   "pygments_lexer": "ipython3",
   "version": "3.12.4"
  }
 },
 "nbformat": 4,
 "nbformat_minor": 2
}
