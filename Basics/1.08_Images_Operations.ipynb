{
 "cells": [
  {
   "cell_type": "markdown",
   "metadata": {},
   "source": [
    "### **Merge Two Images**\n"
   ]
  },
  {
   "cell_type": "code",
   "execution_count": 1,
   "metadata": {},
   "outputs": [],
   "source": [
    "import cv2\n",
    "\n",
    "# Read the two images\n",
    "image1 = cv2.imread(\"../Data/Images/Car.jpg\")\n",
    "image2 = cv2.imread(\"../Data/Images/boat.jpg\")\n",
    "\n",
    "# Ensure both images have the same size\n",
    "image1 = cv2.resize(image1, (400, 300))\n",
    "image2 = cv2.resize(image2, (400, 300))\n",
    "\n",
    "# Merge the two images using addition\n",
    "merged_image = cv2.addWeighted(image1, 0.7, image2, 0.3, 1)\n",
    "\n",
    "# Display the result\n",
    "cv2.imshow(\"Car\", image1)\n",
    "cv2.imshow(\"Boat\", image2)\n",
    "cv2.imshow(\"Merged Image\", merged_image)\n",
    "\n",
    "if cv2.waitKey(0) == ord(\"q\"):\n",
    "    cv2.destroyAllWindows()"
   ]
  },
  {
   "cell_type": "markdown",
   "metadata": {},
   "source": [
    "### **Splitting and Merging Image Channels**"
   ]
  },
  {
   "cell_type": "code",
   "execution_count": 3,
   "metadata": {},
   "outputs": [],
   "source": [
    "import numpy as np\n",
    "import cv2\n",
    "\n",
    "img = cv2.imread(\"../Data/Images/boat.jpg\")\n",
    "\n",
    "# Splitting the image into BGR channels #\n",
    "b, g, r = cv2.split(img)\n",
    "cv2.imshow(\"Red Channel\", r)\n",
    "cv2.imshow(\"Green Channel\", g)\n",
    "cv2.imshow(\"Blue Channel\", b)\n",
    "\n",
    "# Merging channels with Mask #\n",
    "mask = np.zeros(img.shape[:2], dtype=np.uint8)\n",
    "cv2.imshow(\"Red\", cv2.merge([mask, mask, r]))\n",
    "cv2.imshow(\"Green\", cv2.merge([mask, g, mask]))\n",
    "cv2.imshow(\"Blue\", cv2.merge([b, mask, mask]))\n",
    "\n",
    "\n",
    "cv2.imshow(\"Image\", img)\n",
    "cv2.imshow(\"Merge Image\", cv2.merge([b, g, r]))\n",
    "if cv2.waitKey(0) == ord(\"q\"):\n",
    "    cv2.destroyAllWindows()\n",
    "    \n"
   ]
  }
 ],
 "metadata": {
  "kernelspec": {
   "display_name": "Python 3",
   "language": "python",
   "name": "python3"
  },
  "language_info": {
   "codemirror_mode": {
    "name": "ipython",
    "version": 3
   },
   "file_extension": ".py",
   "mimetype": "text/x-python",
   "name": "python",
   "nbconvert_exporter": "python",
   "pygments_lexer": "ipython3",
   "version": "3.12.4"
  }
 },
 "nbformat": 4,
 "nbformat_minor": 2
}
