{
  "cells": [
    {
      "cell_type": "markdown",
      "metadata": {},
      "source": [
        "## **Image Pyramids**"
      ]
    },
    {
      "cell_type": "code",
      "execution_count": 1,
      "metadata": {},
      "outputs": [],
      "source": [
        "import cv2\n",
        "\n",
        "img = cv2.imread(\"../Data/Images/Car.jpg\")\n",
        "layer = img.copy()\n",
        "\n",
        "# Gaussian Pyramid\n",
        "gaussian_pyramid = [layer]\n",
        "for i in range(4):\n",
        "    layer = cv2.pyrDown(layer)\n",
        "    gaussian_pyramid.append(layer)\n",
        "    # cv2.imshow(f\"Gaussian Level {i}\", layer)\n",
        "\n",
        "\n",
        "# Laplacian Pyramid\n",
        "laplacian_pyramid = [gaussian_pyramid[-1]]\n",
        "for i in range(4, 0, -1):\n",
        "    gaussian_expanded = cv2.pyrUp(gaussian_pyramid[i])\n",
        "\n",
        "    if gaussian_expanded.shape != gaussian_pyramid[i - 1].shape:\n",
        "        gaussian_expanded = cv2.resize(\n",
        "            gaussian_expanded,\n",
        "            (gaussian_pyramid[i - 1].shape[1], gaussian_pyramid[i - 1].shape[0]),\n",
        "        )\n",
        "    laplacian = cv2.subtract(gaussian_pyramid[i - 1], gaussian_expanded)\n",
        "    laplacian_pyramid.append(laplacian)\n",
        "    # cv2.imshow(f\"Laplacian Level {i}\", laplacian)\n",
        "\n",
        "\n",
        "cv2.imshow(\"Original\", gaussian_pyramid[0])\n",
        "cv2.imshow(\"Gaussian Level 1\", gaussian_pyramid[1])\n",
        "cv2.imshow(\"Laplacian Level 1\", laplacian_pyramid[0])\n",
        "\n",
        "if cv2.waitKey(0) & 0xFF == ord(\"q\"):\n",
        "    cv2.destroyAllWindows()"
      ]
    }
  ],
  "metadata": {
    "kernelspec": {
      "display_name": "Python 3",
      "language": "python",
      "name": "python3"
    },
    "language_info": {
      "codemirror_mode": {
        "name": "ipython",
        "version": 3
      },
      "file_extension": ".py",
      "mimetype": "text/x-python",
      "name": "python",
      "nbconvert_exporter": "python",
      "pygments_lexer": "ipython3",
      "version": "3.12.4"
    }
  },
  "nbformat": 4,
  "nbformat_minor": 2
}
