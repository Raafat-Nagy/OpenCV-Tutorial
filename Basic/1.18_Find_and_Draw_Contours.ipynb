{
 "cells": [
  {
   "cell_type": "markdown",
   "metadata": {},
   "source": [
    "## **Find and Draw Contours**\n"
   ]
  },
  {
   "cell_type": "markdown",
   "metadata": {},
   "source": [
    "To find and draw contours in OpenCV, you can use the `cv2.findContours` function, which retrieves contours from a binary image, and `cv2.drawContours` to draw those contours on the image. Here’s how you can do it step-by-step:\n",
    "\n",
    "**1. Read the image and convert it to grayscale**:\n",
    "\n",
    "Contours can only be detected in binary (black and white) images, so you first need to convert the image to grayscale.\n",
    "\n",
    "**2. Apply thresholding or edge detection**:\n",
    "\n",
    "You need to create a binary image. You can use thresholding or edge detection (like Canny) to achieve this.\n",
    "\n",
    "**3. Find the contours**:\n",
    "\n",
    "Use `cv2.findContours` to detect the contours in the binary image.\n",
    "\n",
    "**4. Draw the contours**:\n",
    "\n",
    "Once the contours are detected, you can draw them on the original image using `cv2.drawContours`.\n"
   ]
  },
  {
   "cell_type": "markdown",
   "metadata": {},
   "source": [
    "**Check This:** https://docs.opencv.org/4.x/d4/d73/tutorial_py_contours_begin.html\n"
   ]
  },
  {
   "cell_type": "code",
   "execution_count": 19,
   "metadata": {},
   "outputs": [
    {
     "name": "stdout",
     "output_type": "stream",
     "text": [
      "Number of Contours found: 24\n"
     ]
    }
   ],
   "source": [
    "import cv2\n",
    "\n",
    "# Step 1: Read the image and Convert to grayscale\n",
    "img = cv2.imread(\"../Data/Images/OpenCV.png\")\n",
    "gray_img = cv2.cvtColor(img, cv2.COLOR_BGR2GRAY)\n",
    "cv2.imshow(\"Gray Image\", gray_img)\n",
    "\n",
    "# Step 2: Apply Canny Edge Detection\n",
    "canny_edges = cv2.Canny(gray_img, 50, 150)\n",
    "cv2.imshow(\"Canny Edges Image\", canny_edges)\n",
    "\n",
    "# Step 3: Find contours\n",
    "contours, hierarchy = cv2.findContours(\n",
    "    canny_edges, cv2.RETR_TREE, cv2.CHAIN_APPROX_SIMPLE\n",
    ")\n",
    "print(f\"Number of Contours found: {len(contours)}\")\n",
    "\n",
    "# Step 4: Draw the contours\n",
    "cv2.drawContours(img, contours, -1, (0, 255, 200), 2)\n",
    "cv2.imshow(\"Original Image with Contours\", img)\n",
    "\n",
    "\n",
    "if cv2.waitKey(0) in [ord(\"q\"), 27]:\n",
    "    cv2.destroyAllWindows()"
   ]
  }
 ],
 "metadata": {
  "kernelspec": {
   "display_name": "Python 3",
   "language": "python",
   "name": "python3"
  },
  "language_info": {
   "codemirror_mode": {
    "name": "ipython",
    "version": 3
   },
   "file_extension": ".py",
   "mimetype": "text/x-python",
   "name": "python",
   "nbconvert_exporter": "python",
   "pygments_lexer": "ipython3",
   "version": "3.12.4"
  }
 },
 "nbformat": 4,
 "nbformat_minor": 2
}
