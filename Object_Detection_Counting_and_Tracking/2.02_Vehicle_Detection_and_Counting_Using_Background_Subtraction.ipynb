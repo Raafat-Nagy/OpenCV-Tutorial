{
 "cells": [
  {
   "cell_type": "markdown",
   "metadata": {},
   "source": [
    "## **Vehicle Detection and Counting Using Background Subtraction**"
   ]
  },
  {
   "cell_type": "markdown",
   "metadata": {},
   "source": [
    "**Check:** https://docs.opencv.org/4.x/d6/d17/group__cudabgsegm.html"
   ]
  },
  {
   "cell_type": "code",
   "execution_count": 1,
   "metadata": {},
   "outputs": [],
   "source": [
    "import cv2\n",
    "import numpy as np"
   ]
  },
  {
   "cell_type": "code",
   "execution_count": 2,
   "metadata": {},
   "outputs": [],
   "source": [
    "def preprocess_frame(frame: np.ndarray, ksize: tuple = (5, 5)) -> np.ndarray:\n",
    "    \"\"\"\n",
    "    Convert a frame to grayscale and apply Gaussian blur.\n",
    "    \"\"\"\n",
    "    gray_frame = cv2.cvtColor(frame, cv2.COLOR_BGR2GRAY)\n",
    "    blurred_frame = cv2.GaussianBlur(gray_frame, ksize, 0)\n",
    "    return blurred_frame\n",
    "\n",
    "\n",
    "def get_center(x, y, w, h):\n",
    "    \"\"\"\n",
    "    Calculate the center of a bounding rectangle.\n",
    "    \"\"\"\n",
    "    cx = x + (w // 2)\n",
    "    cy = y + (h // 2)\n",
    "    return cx, cy"
   ]
  },
  {
   "cell_type": "code",
   "execution_count": 3,
   "metadata": {},
   "outputs": [],
   "source": [
    "# Parameters\n",
    "x_start = 25\n",
    "x_end = 1160\n",
    "line_position = 550  # Position of the counting line\n",
    "\n",
    "detection_points = []  # Store detected vehicle centers\n",
    "vehicle_count = 0\n",
    "offset = 5  # Tolerance around the line for counting\n",
    "video_path = \"../Data/Videos/Cars_Moving_1.mp4\""
   ]
  },
  {
   "cell_type": "code",
   "execution_count": 4,
   "metadata": {},
   "outputs": [],
   "source": [
    "cap = cv2.VideoCapture(video_path)\n",
    "\n",
    "# Background subtractor\n",
    "background_subtractor = cv2.createBackgroundSubtractorMOG2(history=500, varThreshold=50)\n",
    "\n",
    "while True:\n",
    "    ret, frame = cap.read()\n",
    "    if not ret:\n",
    "        break\n",
    "\n",
    "    processed_frame = preprocess_frame(frame)\n",
    "\n",
    "    # Apply background subtraction and thresholding\n",
    "    bg_sub = background_subtractor.apply(processed_frame)\n",
    "    _, bg_sub = cv2.threshold(bg_sub, 25, 255, cv2.THRESH_BINARY)\n",
    "\n",
    "    dilated_frame = cv2.dilate(bg_sub, (5, 5), iterations=1)\n",
    "\n",
    "    contours, _ = cv2.findContours(\n",
    "        dilated_frame, cv2.RETR_TREE, cv2.CHAIN_APPROX_SIMPLE\n",
    "    )\n",
    "\n",
    "    # Draw the counting line\n",
    "    cv2.line(frame, (x_start, line_position), (x_end, line_position), (176, 130, 39), 2)\n",
    "\n",
    "    # Process each contour\n",
    "    for contour in contours:\n",
    "        if cv2.contourArea(contour) < 2200:\n",
    "            continue\n",
    "\n",
    "        x, y, w, h = cv2.boundingRect(contour)\n",
    "        cv2.rectangle(frame, (x, y), (x + w, y + h), (0, 255, 0), 2)\n",
    "\n",
    "        cx, cy = get_center(x, y, w, h)\n",
    "        cv2.circle(frame, (cx, cy), 3, (0, 255, 0), -1)\n",
    "        detection_points.append((cx, cy))\n",
    "\n",
    "        # Check if the center crosses the counting line\n",
    "        for cx, cy in detection_points:\n",
    "            if line_position - offset < cy < line_position + offset:\n",
    "                vehicle_count += 1\n",
    "                cv2.line(\n",
    "                    frame,\n",
    "                    (x_start, line_position),\n",
    "                    (x_end, line_position),\n",
    "                    (0, 127, 255),\n",
    "                    3,\n",
    "                )\n",
    "                detection_points.remove((cx, cy))\n",
    "                # print(\"Number of Vehicles Detected:\", vehicle_count)\n",
    "\n",
    "    text = f\"VEHICLE COUNT: {vehicle_count}\"\n",
    "    cv2.putText(frame, text, (320, 70), cv2.FONT_HERSHEY_COMPLEX, 2, (0, 0, 255), 4)\n",
    "\n",
    "    cv2.imshow(\"Background Mask\", bg_sub)\n",
    "    cv2.imshow(\"Dilated Frame\", dilated_frame)\n",
    "    cv2.imshow(\"Original Video\", frame)\n",
    "\n",
    "    if cv2.waitKey(1) in [ord(\"q\"), 27]:\n",
    "        # print(\"Number of Vehicles Detected:\", vehicle_count)\n",
    "        break\n",
    "\n",
    "\n",
    "cap.release()\n",
    "cv2.destroyAllWindows()"
   ]
  }
 ],
 "metadata": {
  "kernelspec": {
   "display_name": "Python 3",
   "language": "python",
   "name": "python3"
  },
  "language_info": {
   "codemirror_mode": {
    "name": "ipython",
    "version": 3
   },
   "file_extension": ".py",
   "mimetype": "text/x-python",
   "name": "python",
   "nbconvert_exporter": "python",
   "pygments_lexer": "ipython3",
   "version": "3.12.4"
  }
 },
 "nbformat": 4,
 "nbformat_minor": 2
}
