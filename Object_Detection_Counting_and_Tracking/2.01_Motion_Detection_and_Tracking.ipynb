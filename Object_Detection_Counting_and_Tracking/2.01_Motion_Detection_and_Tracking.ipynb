{
 "cells": [
  {
   "cell_type": "markdown",
   "metadata": {},
   "source": [
    "\n",
    "## **Motion Detection and Tracking**"
   ]
  },
  {
   "cell_type": "markdown",
   "metadata": {},
   "source": [
    "**Motion Detection and Video Recording System Using Frame Processing in OpenCV**"
   ]
  },
  {
   "cell_type": "code",
   "execution_count": 1,
   "metadata": {},
   "outputs": [],
   "source": [
    "import cv2\n",
    "import numpy as np"
   ]
  },
  {
   "cell_type": "code",
   "execution_count": 2,
   "metadata": {},
   "outputs": [],
   "source": [
    "def preprocess_frame(frame: np.ndarray, ksize: tuple = (7, 7)) -> np.ndarray:\n",
    "    \"\"\"\n",
    "    Converts a frame to grayscale and applies Gaussian blur.\n",
    "        return processed_frame\n",
    "    \"\"\"\n",
    "    gray_frame = cv2.cvtColor(frame, cv2.COLOR_BGR2GRAY)\n",
    "    blurred_frame = cv2.GaussianBlur(gray_frame, ksize, 0)\n",
    "    return blurred_frame\n",
    "\n",
    "\n",
    "def get_video_properties(video_capture: cv2.VideoCapture) -> tuple:\n",
    "    \"\"\"\n",
    "    Retrieves video properties like frame width, height, and FPS.\n",
    "        return frame_width, frame_height, fps\n",
    "    \"\"\"\n",
    "    frame_width = int(video_capture.get(cv2.CAP_PROP_FRAME_WIDTH))\n",
    "    frame_height = int(video_capture.get(cv2.CAP_PROP_FRAME_HEIGHT))\n",
    "    fps = int(video_capture.get(cv2.CAP_PROP_FPS))\n",
    "    return frame_width, frame_height, fps\n",
    "\n",
    "\n",
    "def initialize_video_writer(\n",
    "    output_path: str, frameSize: tuple, fps: int, codec: str = \"XVID\"\n",
    ") -> cv2.VideoWriter:\n",
    "    \"\"\"\n",
    "    Initializes the VideoWriter object for saving the video.\n",
    "        return video_writer\n",
    "    \"\"\"\n",
    "    fourcc = cv2.VideoWriter_fourcc(*codec)  # Codec for the video file\n",
    "    video_writer = cv2.VideoWriter(output_path, fourcc, fps, frameSize)\n",
    "    return video_writer"
   ]
  },
  {
   "cell_type": "code",
   "execution_count": 3,
   "metadata": {},
   "outputs": [],
   "source": [
    "cap = cv2.VideoCapture(\"../Data/Videos/People_Moving.avi\")\n",
    "frame_width, frame_height, fps = get_video_properties(cap)\n",
    "\n",
    "output_path = \"../Data/Videos/Detected_Motion.avi\"\n",
    "video_writer = initialize_video_writer(output_path, (frame_width, frame_height), fps)\n",
    "\n",
    "# Read the first frame and preprocess it\n",
    "ret, initial_frame = cap.read()\n",
    "processed_initial_frame = preprocess_frame(initial_frame)\n",
    "\n",
    "while True:\n",
    "    # Read the current frame\n",
    "    ret, current_frame = cap.read()\n",
    "    if not ret:\n",
    "        break\n",
    "\n",
    "    processed_current_frame = preprocess_frame(current_frame)\n",
    "\n",
    "    frame_difference = cv2.absdiff(processed_initial_frame, processed_current_frame)\n",
    "    _, binary_threshold = cv2.threshold(frame_difference, 25, 255, cv2.THRESH_BINARY)\n",
    "    dilated_image = cv2.dilate(binary_threshold, None, iterations=3)\n",
    "\n",
    "    contours, _ = cv2.findContours(\n",
    "        dilated_image, cv2.RETR_EXTERNAL, cv2.CHAIN_APPROX_SIMPLE\n",
    "    )\n",
    "\n",
    "    # Draw rectangles around detected motion\n",
    "    for contour in contours:\n",
    "        if cv2.contourArea(contour) > 1000:  # Ignore small movements\n",
    "            x, y, w, h = cv2.boundingRect(contour)\n",
    "            cv2.rectangle(current_frame, (x, y), (x + w, y + h), (0, 255, 0), 2)\n",
    "\n",
    "    video_writer.write(current_frame)\n",
    "\n",
    "    cv2.imshow(\"Threshold\", binary_threshold)\n",
    "    cv2.imshow(\"After Dilation\", dilated_image)\n",
    "    cv2.imshow(\"Motion Detection\", current_frame)\n",
    "\n",
    "    if cv2.waitKey(1) & 0xFF == ord(\"q\"):\n",
    "        break\n",
    "\n",
    "    # Update the reference frame dynamically for continuous motion tracking\n",
    "    processed_initial_frame = processed_current_frame\n",
    "\n",
    "\n",
    "cap.release()\n",
    "video_writer.release()\n",
    "cv2.destroyAllWindows()"
   ]
  },
  {
   "cell_type": "markdown",
   "metadata": {},
   "source": [
    "1. Read Frame\n",
    "2. Preprocess Frame\n",
    "3. Apply Function\n",
    "4. Threshold\n",
    "5. Dilation\n",
    "6. Find Contours"
   ]
  }
 ],
 "metadata": {
  "kernelspec": {
   "display_name": "Python 3",
   "language": "python",
   "name": "python3"
  },
  "language_info": {
   "codemirror_mode": {
    "name": "ipython",
    "version": 3
   },
   "file_extension": ".py",
   "mimetype": "text/x-python",
   "name": "python",
   "nbconvert_exporter": "python",
   "pygments_lexer": "ipython3",
   "version": "3.12.4"
  }
 },
 "nbformat": 4,
 "nbformat_minor": 2
}
